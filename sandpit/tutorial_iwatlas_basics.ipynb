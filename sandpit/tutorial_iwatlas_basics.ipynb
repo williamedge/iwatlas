{
 "cells": [
  {
   "cell_type": "markdown",
   "metadata": {},
   "source": [
    "# Tutorial demonstrating the basic functionality of the `iwatlas` package\n",
    "\n",
    "In this tutorial we will learn how to:\n",
    "\n",
    " - Download the data netcdf4 file\n",
    " - Inspect the data\n",
    " - Plot a variable\n",
    " - Interpolate a scalar onto a point\n",
    " - Extract a time-series of internal tide sea surface height amplitude at a point\n",
    "     - demonstrate the use of nodal corrections\n",
    " - Extract the stratification at a point\n",
    " - Extract the internal tide-induced velocity at a point\n",
    "     - demonstrate the use of nodal corrections\n",
    "---\n",
    "\n",
    " "
   ]
  },
  {
   "cell_type": "markdown",
   "metadata": {},
   "source": [
    "##### Recommended to start a fresh environment\n",
    "`conda create --name iwatlas_env python=3.12`\n",
    "\n",
    "`conda activate iwatlas_env`\n",
    "\n",
    "##### Install iwatlas\n",
    "\n",
    "`pip install git://github.com/mrayson/iwaves.git`\n",
    "\n",
    "---\n",
    "\n",
    "#### Links to important dependencies (these should install automatically)\n",
    "\n",
    "Need to install pyTMD version 2.2.7... this should do it for now:\n",
    "\n",
    "`pip install git+https://github.com/pyTMD/pyTMD.git@2.2.7`\n",
    "\n",
    "Iwaves\n",
    "\n",
    "`pip install git://github.com/mrayson/iwaves.git@0.4.1`\n",
    "\n",
    "Sfoda\n",
    "\n",
    "`pip install git://github.com/mrayson/sfoda.git@nogdal_nocython`"
   ]
  },
  {
   "cell_type": "code",
   "execution_count": 30,
   "metadata": {},
   "outputs": [
    {
     "name": "stdout",
     "output_type": "stream",
     "text": [
      "/mnt/c/Users/00099894/OneDrive - The University of Western Australia/UWA/Inpex/pl/pckgs/iwatlas/iwatlas/__init__.py\n"
     ]
    }
   ],
   "source": [
    "# These are the sub-modules in the iwatlas package that we will use\n",
    "from iwatlas import sshdriver\n",
    "from iwatlas import uvdriver\n",
    "from iwatlas import harmonics\n",
    "from iwatlas import stratification as strat\n",
    "from iwatlas import iwaves\n",
    "import iwatlas\n",
    "print(iwatlas.__file__)\n",
    "\n",
    "import xarray as xr\n",
    "import pandas as pd\n",
    "import numpy as np\n",
    "from scipy.interpolate import interp1d\n",
    "\n",
    "import matplotlib.pyplot as plt"
   ]
  },
  {
   "cell_type": "code",
   "execution_count": 1,
   "metadata": {},
   "outputs": [
    {
     "data": {
      "text/plain": [
       "'/mnt/c/Users/00099894/OneDrive - The University of Western Australia/UWA/Inpex/pl/pckgs/sfoda/sfoda/__init__.py'"
      ]
     },
     "execution_count": 1,
     "metadata": {},
     "output_type": "execute_result"
    }
   ],
   "source": [
    "import sfoda\n",
    "sfoda.__file__"
   ]
  },
  {
   "cell_type": "code",
   "execution_count": 31,
   "metadata": {},
   "outputs": [],
   "source": [
    "# Uncomment this option to allow for interactive plot windows (e.g. zooming)\n",
    "# %matplotlib notebook"
   ]
  },
  {
   "cell_type": "code",
   "execution_count": 32,
   "metadata": {},
   "outputs": [],
   "source": [
    "# Set where you want to download the 200 MB data file\n",
    "# basedir = '/home/jupyter-ubuntu/data/iwatlas'\n",
    "basedir = '../DATA'"
   ]
  },
  {
   "cell_type": "code",
   "execution_count": 33,
   "metadata": {},
   "outputs": [
    {
     "name": "stdout",
     "output_type": "stream",
     "text": [
      "Folder exists.\n",
      "File exists.\n",
      "CPU times: user 5.77 ms, sys: 0 ns, total: 5.77 ms\n",
      "Wall time: 6.83 ms\n"
     ]
    },
    {
     "data": {
      "text/plain": [
       "'../DATA/NWS_2km_GLORYS_hex_2013_2014_InternalWave_Atlas.nc'"
      ]
     },
     "execution_count": 33,
     "metadata": {},
     "output_type": "execute_result"
    }
   ],
   "source": [
    "%%time\n",
    "# Download the data if it does not exist\n",
    "import urllib, os\n",
    "\n",
    "# Link to a 200 MB data file on cloudstor\n",
    "# publicurl = 'https://cloudstor.aarnet.edu.au/plus/s/vdksw5WKFOTO0nD/download'\n",
    "publicurl = 'https://research-repository.uwa.edu.au/files/93942498/NWS_2km_GLORYS_hex_2013_2014_InternalWave_Atlas.nc'\n",
    "atlasfile = '{}/NWS_2km_GLORYS_hex_2013_2014_InternalWave_Atlas.nc'.format(basedir)\n",
    "\n",
    "if os.path.exists(basedir):\n",
    "    print('Folder exists.')\n",
    "else:\n",
    "    print('Making folder {}'.format(basedir))\n",
    "    os.mkdir(basedir)\n",
    "    \n",
    "if os.path.exists(atlasfile):\n",
    "    print('File exists.')\n",
    "else:\n",
    "    print('Downloading file...')\n",
    "    urllib.request.urlretrieve (publicurl, atlasfile)\n",
    "    print('Done. Saved to {}'.format(atlasfile))\n",
    "atlasfile"
   ]
  },
  {
   "cell_type": "markdown",
   "metadata": {},
   "source": [
    "# Example 1: Open the dataset \n",
    "\n",
    "For this we will use the function `sshdriver.load_ssh_clim` method. This method wraps the `sfoda.ugrid.sunxray.Sunxray` class that is basically an unstructured grid `xarray.Dataset` object."
   ]
  },
  {
   "cell_type": "markdown",
   "metadata": {},
   "source": [
    "sfoda updates\n",
    " - in hybridgrid replace `xrange` with `range` and `if not self._pnt2cells.has_keys(cc):` with `if not cc in self._pnt2cells:`"
   ]
  },
  {
   "cell_type": "code",
   "execution_count": null,
   "metadata": {},
   "outputs": [],
   "source": [
    "ssh = sshdriver.load_ssh_clim(atlasfile)\n",
    "ssh = sshdriver.load_ssh_clim(ssh)\n",
    "ssh._ds"
   ]
  },
  {
   "cell_type": "markdown",
   "metadata": {},
   "source": [
    "We can see from the printout above the *coordinate* and *data variables* plus some *global attributes*. Many of the coordinate and data variables are associated with the unstructured grid topology (e.g., $xv$, $cells$, $nfaces$). The data variables of interest are stored as follows:\n",
    "\n",
    " - Sea surface height harmonics: `SSH_BC_*`\n",
    " - Stratification variables: `N2_*`\n",
    " "
   ]
  },
  {
   "cell_type": "markdown",
   "metadata": {},
   "source": [
    "# Example 2: Inspect an individual variable\n",
    "\n",
    "The `xarray.Dataset` class is the `._ds` attribute. To access a variable (an `xarray.DataArray` object) we call `ssh._ds[varname]`."
   ]
  },
  {
   "cell_type": "code",
   "execution_count": null,
   "metadata": {},
   "outputs": [],
   "source": [
    "ssh._ds['SSH_BC_var']"
   ]
  },
  {
   "cell_type": "markdown",
   "metadata": {},
   "source": [
    "# Example 3: Plot a spatial variable\n",
    "\n",
    "The data is on an unstructured grid so we call either `plotcelldata` or `contourf` methods in the object."
   ]
  },
  {
   "cell_type": "code",
   "execution_count": null,
   "metadata": {},
   "outputs": [],
   "source": [
    "# To show help for a method within an object use the ? symbol e.g.,\n",
    "ssh.plotcelldata?"
   ]
  },
  {
   "cell_type": "code",
   "execution_count": null,
   "metadata": {},
   "outputs": [],
   "source": [
    "# Plot the Sea surface height signal variance\n",
    "plt.figure(figsize=(10,6))\n",
    "ssh.plotcelldata(ssh._ds['SSH_BC_var'], vmax=1e-2, cmap='Reds')\n",
    "plt.title(ssh._ds['SSH_BC_var'].attrs['long_name'])"
   ]
  },
  {
   "cell_type": "markdown",
   "metadata": {},
   "source": [
    "This is nice but it is hard to see any landmarks. Let's add some bathymetry contours..."
   ]
  },
  {
   "cell_type": "code",
   "execution_count": null,
   "metadata": {},
   "outputs": [],
   "source": [
    "plt.figure(figsize=(10,6))\n",
    "ax=plt.subplot(111,facecolor='0.5')\n",
    "ssh.plotcelldata(ssh._ds['SSH_BC_var'], vmax=1e-2, cmap='Reds')\n",
    "ssh.contourf(ssh._ds['dv'], [100, 200,  500, 1000, 2000], colors='k', linewidths=0.2, filled=False, colorbar=False)\n",
    "plt.title(ssh._ds['SSH_BC_var'].attrs['long_name'])"
   ]
  },
  {
   "cell_type": "markdown",
   "metadata": {},
   "source": [
    "# Example 4: Interpolate a scalar onto a point\n",
    "\n",
    "The `sunxray` object has a convenient `.interpolate` method to extract a scalar from the unstructured grid.\n"
   ]
  },
  {
   "cell_type": "code",
   "execution_count": null,
   "metadata": {},
   "outputs": [],
   "source": [
    "# WA-IMOS locations (August 2019)\n",
    "sites = {\n",
    "'NIN100':{'y':-21.84986667,'x':113.9064667},\n",
    "'NWSBAR':{'y':-20.76128333,'x':114.7586167},\n",
    "'NWSROW':{'y':-17.75801667,'x':119.9061},\n",
    "'NWSBRW':{'y':-14.23543333,'x':123.1623833},\n",
    "'NWSLYN':{'y':-9.939416667,'x':130.3490833},\n",
    "'PIL200':{'x': 115.9154, 'y':-19.435333}   ,\n",
    "'KIM200':{'x':121.243217 , 'y':-15.534517} ,  \n",
    "'KIM400':{'x': 121.114967, 'y':-15.22125}   ,\n",
    "'ITFTIS':{'x': 127.5577, 'y':-9.819217}   ,\n",
    "'BB250':{'x':123.34613 , 'y':-13.75897}  ,\n",
    "'Prelude':{'x':123.3506, 'y':-13.7641} , \n",
    "}"
   ]
  },
  {
   "cell_type": "code",
   "execution_count": null,
   "metadata": {},
   "outputs": [],
   "source": [
    "# Spatial coordinates of point\n",
    "sitename = 'NWSBAR'\n",
    "xpt = sites[sitename]['x']\n",
    "ypt = sites[sitename]['y']\n",
    "\n",
    "# Call to the interpolation method\n",
    "mydata = ssh.interpolate(ssh._ds['SSH_BC_var'].values, xpt, ypt, kind='linear')\n",
    "\n",
    "print('The SSH variance at X: {} Y: {} is {}'.format(\\\n",
    "                    xpt, ypt, mydata ) )"
   ]
  },
  {
   "cell_type": "markdown",
   "metadata": {},
   "source": [
    "# Example 5: Extract a time-series of baroclinic sea surface height anomaly\n",
    "\n",
    "To do this we use the driver functions in the `iwatlas.sshdriver` submodule. In particular the `predict_ssh` method\n",
    "\n"
   ]
  },
  {
   "cell_type": "code",
   "execution_count": null,
   "metadata": {},
   "outputs": [],
   "source": [
    "sshdriver.predict_ssh?"
   ]
  },
  {
   "cell_type": "code",
   "execution_count": null,
   "metadata": {},
   "outputs": [],
   "source": [
    "# Create a time vector\n",
    "dt = 1800\n",
    "numdays = 365\n",
    "tstart = np.datetime64('2019-07-01 00:00:00')\n",
    "\n",
    "nsteps = numdays*86400//dt\n",
    "timeout = np.array([tstart+np.timedelta64(ii*dt,'s') for ii in range(nsteps)])\n",
    "\n",
    "# Call the prediction funciton\n",
    "ssh_ts_old = sshdriver.predict_ssh(ssh, xpt, ypt, timeout, nodal=False)\n",
    "ssh_ts_nodal = sshdriver.predict_ssh(ssh, xpt, ypt, timeout, nodal=True)\n",
    "\n",
    "# Plot the time series\n",
    "plt.figure(figsize=(14,4))\n",
    "plt.plot(timeout, ssh_ts_old, lw=0.25)\n",
    "plt.plot(timeout, ssh_ts_nodal, lw=0.25)\n",
    "plt.xlim(timeout[0], timeout[-1])\n",
    "plt.xticks(rotation=17)\n",
    "plt.ylabel('$SSH_{BC}$ [m]')"
   ]
  },
  {
   "cell_type": "code",
   "execution_count": null,
   "metadata": {},
   "outputs": [],
   "source": [
    "px = np.arange(13000,14000)\n",
    "\n",
    "# Plot the time series\n",
    "plt.figure(figsize=(14,4))\n",
    "plt.plot(timeout[px], ssh_ts_old[px], lw=1.5, label='Old')\n",
    "plt.plot(timeout[px], ssh_ts_nodal[px], lw=1.5, label='Nodal')\n",
    "plt.xlim(timeout[px][0], timeout[px][-1])\n",
    "# plt.grid()\n",
    "plt.xticks(rotation=17)\n",
    "plt.ylabel('$SSH_{BC}$ [m]')\n",
    "plt.title(sitename)\n",
    "plt.legend()"
   ]
  },
  {
   "cell_type": "markdown",
   "metadata": {},
   "source": [
    "Maybe we also want to look at the contributions from the individual harmonics to this signal and how they vary. To do this use the `extract_amp_nonstat` function.\n",
    "\n",
    "This outputs two arrays, the real and imaginary amplitude, for each harmonic"
   ]
  },
  {
   "cell_type": "code",
   "execution_count": null,
   "metadata": {},
   "outputs": [],
   "source": [
    "ssh_ns_re, ssh_ns_im = sshdriver.extract_amp_nonstat(ssh, np.array([xpt]), np.array([ypt]), timeout)\n",
    "\n",
    "# To plot the amplitude of the first harmonic (M2) use the\n",
    "plt.figure()\n",
    "plt.plot(timeout, ssh_ts_old, '0.5', lw=0.25)\n",
    "plt.plot(timeout, np.abs(ssh_ns_re[0,...] + 1j*ssh_ns_im[0,...]), 'r', ) # M2\n",
    "plt.plot(timeout, np.abs(ssh_ns_re[3,...] + 1j*ssh_ns_im[3,...]), 'k', ) # K1\n",
    "\n",
    "plt.xticks(rotation=17)\n",
    "plt.ylabel('$SSH_{BC}$ [m]')\n"
   ]
  },
  {
   "cell_type": "markdown",
   "metadata": {},
   "source": [
    "# Example: Extract the density stratification at a point\n",
    "\n",
    "Use the `iwatlas.stratification` module to extract density (buoyancy frequency) profile"
   ]
  },
  {
   "cell_type": "code",
   "execution_count": null,
   "metadata": {},
   "outputs": [],
   "source": [
    "strat.predict_N2?"
   ]
  },
  {
   "cell_type": "code",
   "execution_count": null,
   "metadata": {},
   "outputs": [],
   "source": [
    "# \n",
    "nz = 80 # Number of vertical layers to output\n",
    "\n",
    "# Call the predict_N2 method. Note that this function expects numpy arrays, not scalars, for all inputs\n",
    "\n",
    "# Only compute N^2 at a few time steps\n",
    "tsteps = [0,7200,13200]\n",
    "N2_z, zout = strat.predict_N2(ssh, np.array([xpt]), np.array([ypt]), timeout[tsteps], nz)\n"
   ]
  },
  {
   "cell_type": "code",
   "execution_count": null,
   "metadata": {},
   "outputs": [],
   "source": [
    "# Convert N^2 to units of cycles per day\n",
    "cpd = 2*np.pi/86400.\n",
    "N_cpd = np.sqrt(N2_z)/cpd\n",
    "86400/600."
   ]
  },
  {
   "cell_type": "code",
   "execution_count": null,
   "metadata": {},
   "outputs": [],
   "source": [
    "plt.figure()\n",
    "plt.plot(N_cpd[:,0,0], -zout[:,0,0], )\n",
    "plt.plot(N_cpd[:,0,1], -zout[:,0,1], )\n",
    "plt.plot(N_cpd[:,0,2], -zout[:,0,2], )\n",
    "\n",
    "plt.legend(timeout[tsteps])\n",
    "plt.xlabel('$N$ [cpd]')"
   ]
  },
  {
   "cell_type": "markdown",
   "metadata": {},
   "source": [
    "# Calculate the internal wave parameters\n"
   ]
  },
  {
   "cell_type": "code",
   "execution_count": null,
   "metadata": {},
   "outputs": [],
   "source": [
    "# Calculate the internal wave parameters\n",
    "mode= 0 \n",
    "\n",
    "# Mode shapes\n",
    "phi_n, cn = iwaves.calc_modes(N2_z, zout, mode=mode)\n",
    "\n",
    "# KdV nonlinearity parameter\n",
    "alpha = iwaves.calc_alpha(phi_n, cn, zout)\n",
    "\n",
    "# KdV dispersion parameter\n",
    "beta = iwaves.calc_beta(phi_n, cn, zout)\n",
    "\n",
    "# Factor to convert SSH to isotherm displacement amplitude\n",
    "sshratio = iwaves.amp_to_ssh_ratio(N2_z, phi_n, zout)\n",
    "print(cn[0,0], alpha[0,0], beta[0,0], sshratio[0,0])"
   ]
  },
  {
   "cell_type": "markdown",
   "metadata": {},
   "source": [
    "# Example: convert SSH prediction to isotherm displacement amplitude\n"
   ]
  },
  {
   "cell_type": "code",
   "execution_count": null,
   "metadata": {},
   "outputs": [],
   "source": [
    "# This is simply the sshratio multiplied by the SSH\n",
    "amp_ts_old = ssh_ts_old*sshratio[0,0]\n",
    "amp_ts_nodal = ssh_ts_nodal*sshratio[0,0]\n",
    "plt.figure(figsize=(14,4))\n",
    "plt.plot(timeout, amp_ts_nodal, 'r', lw=0.25, label='Nodal')\n",
    "plt.plot(timeout, amp_ts_old, '0.5', lw=0.25, label='Old')\n",
    "plt.xlim([timeout[0], timeout[-1]])\n",
    "plt.xticks(rotation=17)\n",
    "plt.ylabel('Displacement Amp. [m]')\n",
    "plt.legend()"
   ]
  },
  {
   "cell_type": "markdown",
   "metadata": {},
   "source": [
    "# Example: convert SSH to a baroclinic velocity prediciton"
   ]
  },
  {
   "cell_type": "code",
   "execution_count": null,
   "metadata": {},
   "outputs": [],
   "source": [
    "# Predict the time series of amplitude (note this needs to be expanded in the vertical direction)\n",
    "ut_old, vt_old = uvdriver.predict_uv(ssh, np.array([xpt]), np.array([ypt]), timeout, nodal=False)\n",
    "ut_nodal, vt_nodal = uvdriver.predict_uv(ssh, xpt, ypt, timeout, nodal=True)\n"
   ]
  },
  {
   "cell_type": "code",
   "execution_count": null,
   "metadata": {},
   "outputs": [],
   "source": [
    "fig, ax = plt.subplots(2, 1, figsize=(14,7))\n",
    "ax[0].plot(timeout, ut_old, label='u (old)', lw=0.5)\n",
    "ax[0].plot(timeout, ut_nodal, label='u (nodal)', lw=0.5)\n",
    "\n",
    "ax[1].plot(timeout, vt_old, label='v (old)', lw=0.5)\n",
    "ax[1].plot(timeout, vt_nodal, label='v (nodal)', lw=0.5)\n",
    "\n",
    "for x in ax:\n",
    "    x.set_xlim(timeout[0], timeout[-1])\n",
    "    x.legend()\n",
    "    x.set_ylabel('Velocity [m/s]')"
   ]
  },
  {
   "cell_type": "code",
   "execution_count": null,
   "metadata": {},
   "outputs": [],
   "source": [
    "px = np.arange(0,2000)\n",
    "\n",
    "fig, ax = plt.subplots(2, 1, figsize=(14,7))\n",
    "ax[0].plot(timeout[px], ut_old[px], label='u (old)')\n",
    "ax[0].plot(timeout[px], ut_nodal[px], label='u (nodal)')\n",
    "\n",
    "ax[1].plot(timeout[px], vt_old[px], label='v (old)')\n",
    "ax[1].plot(timeout[px], vt_nodal[px], label='v (nodal)')\n",
    "\n",
    "for x in ax:\n",
    "    x.set_xlim(timeout[px][0], timeout[px][-1])\n",
    "    x.legend()\n",
    "    x.set_ylabel('Velocity [m/s]')"
   ]
  },
  {
   "cell_type": "code",
   "execution_count": null,
   "metadata": {},
   "outputs": [],
   "source": [
    "%%time\n",
    "# Compute the velocity as a function of z \n",
    "# this requires calculating vertical mode function for every time step so may take a minute or two\n",
    "\n",
    "pred = 1000 # predict for the first 1000 time steps\n",
    "\n",
    "uz, vz, zout = uvdriver.predict_uv_z(ssh, np.array([xpt]), np.array([ypt]), timeout[:pred], nodal=False)\n",
    "uz_nodal, vz_nodal, zout_nodal = uvdriver.predict_uv_z(ssh, xpt, ypt, timeout[:pred], nodal=True)\n",
    "print(uz.shape)"
   ]
  },
  {
   "cell_type": "code",
   "execution_count": null,
   "metadata": {},
   "outputs": [],
   "source": [
    "depth_pred = 20 # 20 m depth\n",
    "zout_idx = np.argmin(np.abs(zout.data[:,0,0] - depth_pred))\n",
    "zout_idx"
   ]
  },
  {
   "cell_type": "code",
   "execution_count": null,
   "metadata": {},
   "outputs": [],
   "source": [
    "# Plot the surface velocity\n",
    "usurf = uz[zout_idx,0,...]\n",
    "vsurf = vz[zout_idx,0,...]\n",
    "\n",
    "fig, ax = plt.subplots(2, 1, figsize=(14,7))\n",
    "ax[0].plot(timeout[:pred], usurf, lw=1.5, label='u (old)')\n",
    "ax[0].plot(timeout[:pred], uz_nodal[0,0,...], lw=1.5, label='u (nodal)')\n",
    "\n",
    "ax[1].plot(timeout[:pred], vsurf, lw=1.5, label='v (old)')\n",
    "ax[1].plot(timeout[:pred], vz_nodal[0,0,...], lw=1.5, label='v (nodal)')\n",
    "\n",
    "for x in ax:\n",
    "    x.set_ylabel('Velocity [m/s]')\n",
    "    x.legend()\n",
    "    x.set_xlim(timeout[0], timeout[pred-1])\n",
    "ax[0].set_title(f'{sitename}: velocity at {zout.data[zout_idx,0,0]:.1f} m depth')"
   ]
  },
  {
   "cell_type": "code",
   "execution_count": null,
   "metadata": {},
   "outputs": [],
   "source": []
  }
 ],
 "metadata": {
  "kernelspec": {
   "display_name": "pysoda",
   "language": "python",
   "name": "python3"
  },
  "language_info": {
   "codemirror_mode": {
    "name": "ipython",
    "version": 3
   },
   "file_extension": ".py",
   "mimetype": "text/x-python",
   "name": "python",
   "nbconvert_exporter": "python",
   "pygments_lexer": "ipython3",
   "version": "3.12.3"
  }
 },
 "nbformat": 4,
 "nbformat_minor": 4
}
